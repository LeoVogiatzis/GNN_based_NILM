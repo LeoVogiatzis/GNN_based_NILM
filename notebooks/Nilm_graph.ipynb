{
 "cells": [
  {
   "cell_type": "markdown",
   "metadata": {
    "colab_type": "text",
    "id": "view-in-github"
   },
   "source": [
    "<a href=\"https://colab.research.google.com/github/LeoVogiatzis/GNN_based_NILM/blob/main/notebooks/Nilm_graph.ipynb\" target=\"_parent\"><img src=\"https://colab.research.google.com/assets/colab-badge.svg\" alt=\"Open In Colab\"/></a>"
   ]
  },
  {
   "cell_type": "code",
   "execution_count": null,
   "metadata": {
    "colab": {
     "base_uri": "https://localhost:8080/"
    },
    "id": "I53hzURMuMom",
    "outputId": "f0b6a1b3-121c-4f0e-e064-e0b0f265271f"
   },
   "outputs": [
    {
     "name": "stdout",
     "output_type": "stream",
     "text": [
      "\u001b[K     |████████████████████████████████| 7.9 MB 6.9 MB/s \n",
      "\u001b[K     |████████████████████████████████| 3.5 MB 5.4 MB/s \n",
      "\u001b[K     |████████████████████████████████| 407 kB 5.1 MB/s \n",
      "\u001b[K     |████████████████████████████████| 45 kB 3.0 MB/s \n",
      "\u001b[?25h  Building wheel for torch-geometric (setup.py) ... \u001b[?25l\u001b[?25hdone\n"
     ]
    }
   ],
   "source": [
    "# !pip install pandas\n",
    "# !pip install networkx\n",
    "# !pip install torch-scatter -f https://data.pyg.org/whl/torch-1.9.0+cu111.html\n",
    "# !pip install torch-sparse -f https://data.pyg.org/whl/torch-1.9.0+cu111.html\n",
    "# !pip install torch-geometric\n",
    "# !pip install torch\n",
    "# Install required packages.\n",
    "!pip install -q torch-scatter -f https://data.pyg.org/whl/torch-1.10.0+cu113.html\n",
    "!pip install -q torch-sparse -f https://data.pyg.org/whl/torch-1.10.0+cu113.html\n",
    "!pip install -q git+https://github.com/pyg-team/pytorch_geometric.git\n"
   ]
  },
  {
   "cell_type": "code",
   "execution_count": null,
   "metadata": {
    "id": "2Q81JR7iXoNt"
   },
   "outputs": [],
   "source": [
    "# !pip install torch-scatter     -f https://pytorch-geometric.com/whl/torch-{TORCH}+{CUDA}.html\n",
    "# !pip install torch-sparse      -f https://pytorch-geometric.com/whl/torch-{TORCH}+{CUDA}.html\n",
    "# !pip install torch-cluster     -f https://pytorch-geometric.com/whl/torch-{TORCH}+{CUDA}.html\n",
    "# !pip install torch-spline-conv -f https://pytorch-geometric.com/whl/torch-{TORCH}+{CUDA}.html\n",
    "# !pip install torch-geometric\n",
    "import networkx as nx\n",
    "import pandas as pd\n",
    "import torch\n",
    "import torch_geometric\n",
    "from torch_geometric.data import Dataset, Data\n",
    "import numpy as np\n",
    "import os\n",
    "from tqdm import tqdm"
   ]
  },
  {
   "cell_type": "code",
   "execution_count": null,
   "metadata": {
    "colab": {
     "base_uri": "https://localhost:8080/"
    },
    "id": "oBqm1sx_8yIm",
    "outputId": "b12d8589-65c0-41b1-ee45-41833b0f6faa"
   },
   "outputs": [
    {
     "name": "stdout",
     "output_type": "stream",
     "text": [
      "Torch version: 1.10.0+cu111\n",
      "Cuda available: True\n",
      "Torch geometric version: 2.0.2\n"
     ]
    }
   ],
   "source": [
    "print(f\"Torch version: {torch.__version__}\")\n",
    "print(f\"Cuda available: {torch.cuda.is_available()}\")\n",
    "print(f\"Torch geometric version: {torch_geometric.__version__}\")\n"
   ]
  },
  {
   "cell_type": "code",
   "execution_count": null,
   "metadata": {
    "id": "u_6GF0wDlENS"
   },
   "outputs": [],
   "source": [
    "from sklearn.model_selection import train_test_split\n",
    "from sklearn.preprocessing import StandardScaler\n",
    "from torch_geometric.transforms import RandomLinkSplit, RandomNodeSplit\n"
   ]
  },
  {
   "cell_type": "code",
   "execution_count": null,
   "metadata": {
    "id": "lfyskJ-t3cnI"
   },
   "outputs": [],
   "source": [
    "class NilmDataset(Dataset):\n",
    "    def __init__(self, root, filename, test=False, transform=None, pre_transform=None):\n",
    "        \"\"\"2\n",
    "        root = Where the dataset should be stored. This folder is split \n",
    "        into raw_dir (downloaded dataset) and processed_dir (processed data).\n",
    "        \"\"\"\n",
    "        self.test = test\n",
    "        self.filename = filename\n",
    "        super(NilmDataset, self).__init__(root, transform, pre_transform)\n",
    "\n",
    "    @property\n",
    "    def raw_file_names(self):\n",
    "        \"\"\" If this file exists in raw_dir, the download is not triggered.\n",
    "            (The download func. is not implemented here)\n",
    "        \"\"\"\n",
    "        return self.filename\n",
    "\n",
    "    @property\n",
    "    def processed_file_names(self):\n",
    "        \"\"\" If these files are found in raw_dir, processing is skipped\"\"\"\n",
    "        self.data = pd.read_csv(self.raw_paths[0]).reset_index()\n",
    "\n",
    "        if self.test:\n",
    "            return [f'data_test_{i}.pt' for i in list(self.data.index)]\n",
    "        else:\n",
    "            return [f'data_{i}.pt' for i in list(self.data.index)]\n",
    "\n",
    "    def download(self):\n",
    "        pass\n",
    "\n",
    "    def process(self):\n",
    "        self.G = nx.read_graphml(self.raw_paths[0])\n",
    "        print(len(self.G.nodes), len(self.G.edges))\n",
    "        # TODO: read graphs below\n",
    "            # Get node features\n",
    "        node_feats = self._get_node_features(self.G)\n",
    "            # Get edge features\n",
    "        edge_feats = self._get_edge_features(self.G)\n",
    "            # Get adjacency info\n",
    "        edge_index = self._get_adjacency_info(self.G)\n",
    "            # Get labels info\n",
    "        labels = self._get_labels(nx.get_node_attributes(self.G, 'state'))  # pass label here. E.g. if it is a column for this graph it could be graph_csv['label']\n",
    "        \n",
    "            # Create data object\n",
    "        self.data = Data(x=node_feats, edge_index=edge_index, y=labels)\n",
    "        # self.data = Data(x=node_feats, edge_index=edge_index, edge_attr=edge_feats, y=labels)\n",
    "\n",
    "        # self.data.num_classes = 2\n",
    "\n",
    "        if self.test:\n",
    "          torch.save(self.data, os.path.join(self.processed_dir, 'data_test_0.pt'))\n",
    "        else:\n",
    "          torch.save(self.data, os.path.join(self.processed_dir, 'data_0.pt'))\n",
    "\n",
    "    def _get_node_features(self, graph):\n",
    "        \"\"\"\n",
    "        This will return a matrix / 2d array of the shape\n",
    "        [Number of Nodes, Node Feature size]\n",
    "\n",
    "        We could also use torch_geometric.from_networkx to create a Data object\n",
    "        with both adjacency and features, but instead we do it manually here\n",
    "        \"\"\"\n",
    "        all_node_feats = list(nx.get_node_attributes(graph, 'drift').values())\n",
    "\n",
    "        all_node_feats = np.asarray(all_node_feats)\n",
    "        all_node_feats = all_node_feats.reshape((-1, 1))\n",
    "        return torch.tensor(all_node_feats, dtype=torch.float)\n",
    "\n",
    "    def _get_edge_features(self, graph):\n",
    "      \"\"\"\n",
    "        This will return a matirx with the gaussian filter kernel of all \n",
    "        edges\n",
    "      \"\"\"\n",
    "\n",
    "      all_edge_feats = []\n",
    "      for e in graph.edges(data=True):\n",
    "        all_edge_feats += [[e[2]['gaussian_kernel']], [e[2]['gaussian_kernel']]]\n",
    "\n",
    "      return torch.tensor(all_edge_feats, dtype=torch.float)\n",
    "\n",
    "    def _get_adjacency_info(self, graph):\n",
    "        \"\"\"\n",
    "        We could also use torch_geometric.from_networkx to create a Data object\n",
    "        with both adjacency and features, but instead we do it manually here\n",
    "        \"\"\"\n",
    "        nodes = {n: i for i, n in enumerate(graph.nodes())}\n",
    "        \n",
    "        edge_indices = []\n",
    "        for edge in graph.edges:\n",
    "            i = nodes[edge[0]]  # get source\n",
    "            j = nodes[edge[1]]  # get destination\n",
    "            edge_indices += [[i, j], [j, i]]  # undirected graph\n",
    "\n",
    "        edge_indices = torch.tensor(edge_indices)\n",
    "        edge_indices = edge_indices.t().to(torch.long).view(2, -1)\n",
    "        return edge_indices\n",
    "\n",
    "    def _get_labels(self, labels):\n",
    "        labels = list(labels.values())\n",
    "        labels = np.asarray(labels)\n",
    "        return torch.tensor(labels, dtype=torch.int64)\n",
    "\n",
    "    def len(self):\n",
    "        return self.data.shape[0]\n",
    "\n",
    "    def get(self, idx):\n",
    "        \"\"\" - Equivalent to __getitem__ in pytorch\n",
    "            - Is not needed for PyG's InMemoryDataset\n",
    "        \"\"\"\n",
    "        if self.test:\n",
    "            data = torch.load(os.path.join(self.processed_dir, f'data_test_{idx}.pt'))\n",
    "        else:\n",
    "            data = torch.load(os.path.join(self.processed_dir, f'data_{idx}.pt'))\n",
    "        return data"
   ]
  },
  {
   "cell_type": "code",
   "execution_count": null,
   "metadata": {
    "colab": {
     "base_uri": "https://localhost:8080/"
    },
    "id": "QN_-X2CfT87P",
    "outputId": "68f0f6f6-8e17-4064-ec84-9b911382e79c"
   },
   "outputs": [
    {
     "name": "stderr",
     "output_type": "stream",
     "text": [
      "Processing...\n"
     ]
    },
    {
     "name": "stdout",
     "output_type": "stream",
     "text": [
      "410 41820\n",
      "tensor([1, 1, 1, 1, 1, 1, 1, 1, 1, 1, 1, 1, 1, 1, 1, 1, 1, 1, 1, 1, 1, 1, 1, 1,\n",
      "        1, 1, 1, 1, 1, 1, 1, 1, 1, 1, 1, 1, 1, 1, 1, 1, 1, 1, 1, 1, 1, 1, 1, 1,\n",
      "        1, 1, 1, 1, 1, 1, 1, 1, 1, 1, 1, 1, 1, 1, 1, 1, 1, 1, 1, 1, 1, 1, 1, 1,\n",
      "        1, 1, 1, 1, 1, 1, 1, 1, 1, 1, 1, 1, 1, 1, 1, 1, 1, 1, 1, 1, 1, 1, 1, 1,\n",
      "        1, 1, 1, 1, 1, 1, 1, 1, 1, 1, 1, 1, 1, 1, 1, 1, 1, 1, 1, 1, 1, 1, 1, 1,\n",
      "        1, 1, 1, 1, 1, 1, 1, 1, 1, 1, 1, 1, 1, 1, 1, 1, 1, 1, 1, 1, 1, 1, 1, 1,\n",
      "        1, 1, 1, 1, 1, 1, 1, 1, 1, 1, 1, 1, 1, 1, 1, 1, 1, 1, 1, 1, 1, 1, 1, 1,\n",
      "        1, 1, 1, 1, 1, 1, 1, 1, 1, 1, 1, 1, 1, 1, 1, 1, 1, 1, 1, 1, 1, 1, 1, 1,\n",
      "        1, 1, 1, 1, 1, 1, 1, 1, 1, 1, 1, 1, 1, 0, 0, 0, 0, 0, 0, 0, 0, 0, 0, 0,\n",
      "        0, 0, 0, 0, 0, 0, 0, 0, 0, 0, 0, 0, 0, 0, 0, 0, 0, 0, 0, 0, 0, 0, 0, 0,\n",
      "        0, 0, 0, 0, 0, 0, 0, 0, 0, 0, 0, 0, 0, 0, 0, 0, 0, 0, 0, 0, 0, 0, 0, 0,\n",
      "        0, 0, 0, 0, 0, 0, 0, 0, 0, 0, 0, 0, 0, 0, 0, 0, 0, 0, 0, 0, 0, 0, 0, 0,\n",
      "        0, 0, 0, 0, 0, 0, 0, 0, 0, 0, 0, 0, 0, 0, 0, 0, 0, 0, 0, 0, 0, 0, 0, 0,\n",
      "        0, 0, 0, 0, 0, 0, 0, 0, 0, 0, 0, 0, 0, 0, 0, 0, 0, 0, 0, 0, 0, 0, 0, 0,\n",
      "        0, 0, 0, 0, 0, 0, 0, 0, 0, 0, 0, 0, 0, 0, 0, 0, 0, 0, 0, 0, 0, 0, 0, 0,\n",
      "        0, 0, 0, 0, 0, 0, 0, 0, 0, 0, 0, 0, 0, 0, 0, 0, 0, 0, 0, 0, 0, 0, 0, 0,\n",
      "        0, 0, 0, 0, 0, 0, 0, 0, 0, 0, 0, 0, 0, 0, 0, 0, 0, 0, 0, 0, 0, 0, 0, 0,\n",
      "        0, 0])\n"
     ]
    },
    {
     "name": "stderr",
     "output_type": "stream",
     "text": [
      "Done!\n"
     ]
    }
   ],
   "source": [
    "data = NilmDataset(root='data', filename='dishwaser_20.graphml')\n",
    "print(data.data.y)\n",
    "# from torch_geometric.datasets import Planetoid\n",
    "# from torch_geometric.transforms import NormalizeFeatures\n",
    "# dataset = Planetoid(root='data/Planetoid', name='Cora', transform=NormalizeFeatures())\n",
    "# data = dataset[0]\n",
    "# print(data.y)"
   ]
  },
  {
   "cell_type": "code",
   "execution_count": null,
   "metadata": {
    "colab": {
     "base_uri": "https://localhost:8080/"
    },
    "id": "YCAanX-VThd0",
    "outputId": "66850122-2d09-43cf-a4d1-62adac810954"
   },
   "outputs": [
    {
     "name": "stdout",
     "output_type": "stream",
     "text": [
      "Data(x=[410, 1], edge_index=[2, 58548], y=[410], edge_label=[58548], edge_label_index=[2, 58548]) Data(x=[410, 1], edge_index=[2, 58548], y=[410], edge_label=[8364], edge_label_index=[2, 8364]) Data(x=[410, 1], edge_index=[2, 66912], y=[410], edge_label=[16728], edge_label_index=[2, 16728])\n"
     ]
    }
   ],
   "source": [
    "# transform = RandomNodeSplit()\n",
    "# dataset = transform(data.data)\n",
    "# print(dataset)\n",
    "\n",
    "transform = RandomLinkSplit(is_undirected=True)\n",
    "train_data, val_data, test_data = transform(data.data)\n",
    "# train_data, val_data, test_data = transform(data)\n",
    "print(train_data, val_data, test_data)"
   ]
  },
  {
   "cell_type": "code",
   "execution_count": null,
   "metadata": {
    "id": "L73V29O5lCJE"
   },
   "outputs": [],
   "source": [
    "import torch\n",
    "from torch.nn import Linear\n",
    "from torch_geometric.nn import GCNConv\n",
    "import torch.nn.functional as F\n",
    "\n",
    "class GCN(torch.nn.Module):\n",
    "    def __init__(self, in_channels, hidden_channels, out_channels):\n",
    "        super(GCN, self).__init__()\n",
    "        torch.manual_seed(42)\n",
    "\n",
    "        # Initialize the layers\n",
    "        self.conv1 = GCNConv(in_channels, hidden_channels)\n",
    "        self.conv2 = GCNConv(hidden_channels, out_channels)\n",
    "\n",
    "    def forward(self, x, edge_index):\n",
    "        # First Message Passing Layer (Transformation)\n",
    "        x = self.conv1(x, edge_index)\n",
    "        x = x.relu()\n",
    "        x = F.dropout(x, p=0.5, training=self.training)\n",
    "\n",
    "        # Second Message Passing Layer\n",
    "        x = self.conv2(x, edge_index)\n",
    "\n",
    "        return x\n"
   ]
  },
  {
   "cell_type": "code",
   "execution_count": null,
   "metadata": {
    "colab": {
     "base_uri": "https://localhost:8080/",
     "height": 300
    },
    "id": "p3TAi69zI1bO",
    "outputId": "b4066347-ad31-42aa-ffe7-2134ac719199"
   },
   "outputs": [
    {
     "data": {
      "application/javascript": [
       "google.colab.output.setIframeHeight(0, true, {maxHeight: 300})"
      ],
      "text/plain": [
       "<IPython.core.display.Javascript object>"
      ]
     },
     "metadata": {},
     "output_type": "display_data"
    },
    {
     "name": "stdout",
     "output_type": "stream",
     "text": [
      "Epoch: 001, Loss: 0.5026\n",
      "Epoch: 002, Loss: 0.5288\n",
      "Epoch: 003, Loss: 0.4858\n",
      "Epoch: 004, Loss: 0.4932\n",
      "Epoch: 005, Loss: 0.4908\n",
      "Epoch: 006, Loss: 0.4862\n",
      "Epoch: 007, Loss: 0.4765\n",
      "Epoch: 008, Loss: 0.4766\n",
      "Epoch: 009, Loss: 0.4557\n",
      "Epoch: 010, Loss: 0.4705\n",
      "Epoch: 011, Loss: 0.4408\n",
      "Epoch: 012, Loss: 0.4445\n",
      "Epoch: 013, Loss: 0.4115\n",
      "Epoch: 014, Loss: 0.4136\n",
      "Epoch: 015, Loss: 0.3968\n",
      "Epoch: 016, Loss: 0.4142\n",
      "Epoch: 017, Loss: 0.3931\n",
      "Epoch: 018, Loss: 0.4049\n",
      "Epoch: 019, Loss: 0.4051\n",
      "Epoch: 020, Loss: 0.3546\n",
      "Epoch: 021, Loss: 0.3941\n",
      "Epoch: 022, Loss: 0.3363\n",
      "Epoch: 023, Loss: 0.3570\n",
      "Epoch: 024, Loss: 0.3485\n",
      "Epoch: 025, Loss: 0.3577\n",
      "Epoch: 026, Loss: 0.3413\n",
      "Epoch: 027, Loss: 0.3279\n",
      "Epoch: 028, Loss: 0.3389\n",
      "Epoch: 029, Loss: 0.3063\n",
      "Epoch: 030, Loss: 0.3141\n",
      "Epoch: 031, Loss: 0.3127\n",
      "Epoch: 032, Loss: 0.2905\n",
      "Epoch: 033, Loss: 0.2850\n",
      "Epoch: 034, Loss: 0.3074\n",
      "Epoch: 035, Loss: 0.2792\n",
      "Epoch: 036, Loss: 0.2566\n",
      "Epoch: 037, Loss: 0.2667\n",
      "Epoch: 038, Loss: 0.2681\n",
      "Epoch: 039, Loss: 0.2432\n",
      "Epoch: 040, Loss: 0.2530\n",
      "Epoch: 041, Loss: 0.2369\n",
      "Epoch: 042, Loss: 0.2210\n",
      "Epoch: 043, Loss: 0.2283\n",
      "Epoch: 044, Loss: 0.2181\n",
      "Epoch: 045, Loss: 0.2377\n",
      "Epoch: 046, Loss: 0.2129\n",
      "Epoch: 047, Loss: 0.2009\n",
      "Epoch: 048, Loss: 0.2032\n",
      "Epoch: 049, Loss: 0.2027\n",
      "Epoch: 050, Loss: 0.2050\n",
      "Epoch: 051, Loss: 0.2106\n",
      "Epoch: 052, Loss: 0.2020\n",
      "Epoch: 053, Loss: 0.1830\n",
      "Epoch: 054, Loss: 0.1814\n",
      "Epoch: 055, Loss: 0.1743\n",
      "Epoch: 056, Loss: 0.1726\n",
      "Epoch: 057, Loss: 0.1744\n",
      "Epoch: 058, Loss: 0.1654\n",
      "Epoch: 059, Loss: 0.1624\n",
      "Epoch: 060, Loss: 0.1640\n",
      "Epoch: 061, Loss: 0.1602\n",
      "Epoch: 062, Loss: 0.1661\n",
      "Epoch: 063, Loss: 0.1510\n",
      "Epoch: 064, Loss: 0.1621\n",
      "Epoch: 065, Loss: 0.1440\n",
      "Epoch: 066, Loss: 0.1576\n",
      "Epoch: 067, Loss: 0.1465\n",
      "Epoch: 068, Loss: 0.1340\n",
      "Epoch: 069, Loss: 0.1383\n",
      "Epoch: 070, Loss: 0.1382\n",
      "Epoch: 071, Loss: 0.1255\n",
      "Epoch: 072, Loss: 0.1370\n",
      "Epoch: 073, Loss: 0.1382\n",
      "Epoch: 074, Loss: 0.1156\n",
      "Epoch: 075, Loss: 0.1221\n",
      "Epoch: 076, Loss: 0.1255\n",
      "Epoch: 077, Loss: 0.1203\n",
      "Epoch: 078, Loss: 0.1121\n",
      "Epoch: 079, Loss: 0.1153\n",
      "Epoch: 080, Loss: 0.1172\n",
      "Epoch: 081, Loss: 0.1129\n",
      "Epoch: 082, Loss: 0.1111\n",
      "Epoch: 083, Loss: 0.1077\n",
      "Epoch: 084, Loss: 0.1040\n",
      "Epoch: 085, Loss: 0.0992\n",
      "Epoch: 086, Loss: 0.1157\n",
      "Epoch: 087, Loss: 0.1008\n",
      "Epoch: 088, Loss: 0.0958\n",
      "Epoch: 089, Loss: 0.0975\n",
      "Epoch: 090, Loss: 0.0942\n",
      "Epoch: 091, Loss: 0.1090\n",
      "Epoch: 092, Loss: 0.1005\n",
      "Epoch: 093, Loss: 0.0912\n",
      "Epoch: 094, Loss: 0.0881\n",
      "Epoch: 095, Loss: 0.0890\n",
      "Epoch: 096, Loss: 0.0858\n",
      "Epoch: 097, Loss: 0.0824\n",
      "Epoch: 098, Loss: 0.0955\n",
      "Epoch: 099, Loss: 0.0909\n",
      "Epoch: 100, Loss: 0.0876\n"
     ]
    }
   ],
   "source": [
    "from IPython.display import Javascript  # Restrict height of output cell.\n",
    "display(Javascript('''google.colab.output.setIframeHeight(0, true, {maxHeight: 300})'''))\n",
    "\n",
    "# model = GCN(in_channels = dataset.x.shape[1], hidden_channels=dataset.x.shape[1])\n",
    "model = GCN(in_channels = train_data.x.shape[1], hidden_channels=train_data.x.shape[1], out_channels=len(np.unique(train_data.y)))\n",
    "optimizer = torch.optim.Adam(model.parameters(), lr=0.01, weight_decay=5e-4)\n",
    "criterion = torch.nn.CrossEntropyLoss()\n",
    "\n",
    "def train():\n",
    "      model.train()\n",
    "      optimizer.zero_grad()  # Clear gradients.\n",
    "      # out = model(dataset.x, dataset.edge_index)  # Perform a single forward pass.\n",
    "      out = model(train_data.x, train_data.edge_index)\n",
    "\n",
    "      # loss = criterion(out[dataset.train_mask], dataset.y[dataset.train_mask])  # Compute the loss solely based on the training nodes.\n",
    "      loss = criterion(out, train_data.y)\n",
    "      loss.backward()  # Derive gradients.\n",
    "      optimizer.step()  # Update parameters based on gradients.\n",
    "      return loss\n",
    "\n",
    "def test():\n",
    "      model.eval()\n",
    "      out = model(dataset.x, dataset.edge_index)\n",
    "      pred = out.argmax(dim=1)  # Use the class with highest probability.\n",
    "      test_correct = pred[dataset.test_mask] == dataset.y[dataset.test_mask]  # Check against ground-truth labels.\n",
    "      test_acc = int(test_correct.sum()) / int(dataset.test_mask.sum())  # Derive ratio of correct predictions.\n",
    "      return test_acc\n",
    "\n",
    "\n",
    "for epoch in range(1, 101):\n",
    "    loss = train()\n",
    "    print(f'Epoch: {epoch:03d}, Loss: {loss:.4f}')"
   ]
  }
 ],
 "metadata": {
  "accelerator": "GPU",
  "colab": {
   "include_colab_link": true,
   "name": "Nilm_graph.ipynb",
   "provenance": []
  },
  "kernelspec": {
   "display_name": "Python 3 (ipykernel)",
   "language": "python",
   "name": "python3"
  },
  "language_info": {
   "codemirror_mode": {
    "name": "ipython",
    "version": 3
   },
   "file_extension": ".py",
   "mimetype": "text/x-python",
   "name": "python",
   "nbconvert_exporter": "python",
   "pygments_lexer": "ipython3",
   "version": "3.8.10"
  }
 },
 "nbformat": 4,
 "nbformat_minor": 4
}

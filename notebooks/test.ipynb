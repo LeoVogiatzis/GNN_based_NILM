{
 "cells": [
  {
   "cell_type": "markdown",
   "metadata": {
    "colab_type": "text",
    "id": "view-in-github"
   },
   "source": [
    "<a href=\"https://colab.research.google.com/github/LeoVogiatzis/GNN_based_NILM/blob/main/test.ipynb\" target=\"_parent\"><img src=\"https://colab.research.google.com/assets/colab-badge.svg\" alt=\"Open In Colab\"/></a>"
   ]
  },
  {
   "cell_type": "code",
   "execution_count": null,
   "metadata": {
    "id": "UfRkMWH2yUSx"
   },
   "outputs": [],
   "source": [
    "!pip install -q torch-scatter -f https://data.pyg.org/whl/torch-1.10.0+cu113.html\n",
    "!pip install -q torch-sparse -f https://data.pyg.org/whl/torch-1.10.0+cu113.html\n",
    "!pip install -q git+https://github.com/pyg-team/pytorch_geometric.git\n"
   ]
  },
  {
   "cell_type": "code",
   "execution_count": null,
   "metadata": {
    "id": "VDbEhAhbeEd1"
   },
   "outputs": [],
   "source": [
    "!git clone https://github.com/shenweichen/GraphEmbedding.git\n"
   ]
  },
  {
   "cell_type": "code",
   "execution_count": null,
   "metadata": {
    "id": "VO3mQ28egYL1"
   },
   "outputs": [],
   "source": [
    "import networkx as nx\n",
    "import pandas as pd\n",
    "import torch\n",
    "import torch_geometric\n",
    "from torch_geometric.data import Dataset, Data\n",
    "import numpy as np\n",
    "import os\n",
    "from tqdm import tqdm\n",
    "from sklearn.model_selection import train_test_split\n",
    "from sklearn.preprocessing import StandardScaler"
   ]
  },
  {
   "cell_type": "code",
   "execution_count": null,
   "metadata": {
    "id": "xj6iUnx_gJXy"
   },
   "outputs": [],
   "source": [
    "import sys\n",
    "print(sys.path)\n",
    "! pip install Node2Vec"
   ]
  },
  {
   "cell_type": "code",
   "execution_count": null,
   "metadata": {
    "id": "BqUNUDXKjq3t"
   },
   "outputs": [],
   "source": [
    "G = nx.read_graphml('dishwaser_20.graphml')"
   ]
  },
  {
   "cell_type": "code",
   "execution_count": null,
   "metadata": {
    "colab": {
     "base_uri": "https://localhost:8080/",
     "height": 49,
     "referenced_widgets": [
      "f595b0c81b3e479d9a920275de9aa7b4",
      "3dd39bfda1314235897132739aee7df8",
      "4dc4099e59344f33acfa5cb977e0f8d4",
      "b4253fb16c4444069ff00b2550f30ceb",
      "6adc847a0f014b76beaea8300c24440f",
      "b5cf2f6a4f5b4afba2b76c5d4569c168",
      "2ef22a9e64f54bc494756e26ba910f5c",
      "c2d78d4dbc0445269db9aff1d28a29fc",
      "b02d9b52aedd40f08b853279e0a83e19",
      "13989af33ba242c69e02bb784294b016",
      "8935ec567d544755ae0a96bd63d70310"
     ]
    },
    "id": "0FgMfew0iCMM",
    "outputId": "8d30a285-0456-4195-92f6-3bd0a2deb1d8"
   },
   "outputs": [
    {
     "data": {
      "application/vnd.jupyter.widget-view+json": {
       "model_id": "f595b0c81b3e479d9a920275de9aa7b4",
       "version_major": 2,
       "version_minor": 0
      },
      "text/plain": [
       "Computing transition probabilities:   0%|          | 0/410 [00:00<?, ?it/s]"
      ]
     },
     "metadata": {},
     "output_type": "display_data"
    }
   ],
   "source": [
    "from node2vec import Node2Vec\n",
    "# load graph from networkx library\n",
    "G = nx.read_graphml('dishwaser_20.graphml')\n",
    "\n",
    "# convert nodes from int to str format\n",
    "keys = np.arange(0,len(G.nodes()))\n",
    "values = [str(i) for i in keys]\n",
    "dic = dict(zip(keys, values))\n",
    "H = nx.relabel_nodes(G, dic)\n",
    "\n",
    "# train the model and generate embeddings\n",
    "\n",
    "model = Node2Vec(H, walk_length=10, num_walks=80, workers=2)\n",
    "embeddings = model.fit(window=5,iter=3)\n",
    "\n",
    "# embeddings = model.get_embeddings()"
   ]
  },
  {
   "cell_type": "code",
   "execution_count": null,
   "metadata": {
    "id": "fceOz2i6i30q"
   },
   "outputs": [],
   "source": [
    "for node, _ in model.most_similar('100'):\n",
    "    # Show only players\n",
    "    if len(node) > 3:\n",
    "        print(node)"
   ]
  },
  {
   "cell_type": "code",
   "execution_count": null,
   "metadata": {
    "id": "YM1CLvUAenyx"
   },
   "outputs": [],
   "source": [
    "import networkx as nx\n",
    "import numpy as np\n",
    "import torch\n",
    "from node2vec import Node2Vec\n",
    "  \n",
    "# retrieve the labels for each node\n",
    "labels = np.asarray([G.nodes[i]['state'] for i in G.nodes]).astype(np.int64)\n",
    "\n",
    "# create edge index from \n",
    "adj = nx.to_scipy_sparse_matrix(G).tocoo()\n",
    "row = torch.from_numpy(adj.row.astype(np.int64)).to(torch.long)\n",
    "col = torch.from_numpy(adj.col.astype(np.int64)).to(torch.long)\n",
    "edge_index = torch.stack([row, col], dim=0)\n",
    "\n",
    "# using degree as embedding\n",
    "embeddings = np.array(list(dict(G.degree()).values()))\n",
    "\n",
    "# normalizing degree values\n",
    "scale = StandardScaler()\n",
    "embeddings = scale.fit_transform(embeddings.reshape(-1,1))"
   ]
  },
  {
   "cell_type": "code",
   "execution_count": null,
   "metadata": {
    "colab": {
     "base_uri": "https://localhost:8080/"
    },
    "id": "Sg3_C_yGnP_e",
    "outputId": "18d2fc3b-1d1a-469a-82cc-6d586f5714a1"
   },
   "outputs": [
    {
     "data": {
      "text/plain": [
       "array([   2,   26,   33,   52,   55,   59,   64,   68,   81,   90,   92,\n",
       "         95,  219,  227,  230,  241,  244,  247,  249,  253,  265,  281,\n",
       "        287,  291,  296,  302,  305,  311,  316,  321,  325,  331,  345,\n",
       "        358,  363,  365,  368,  373,  375,  380,  382,  387,  389,  397,\n",
       "        401,  411,  413,  415,  418,  422,  424,  426,  432,  438,  444,\n",
       "        455,  461,  497,  545,  577,  613,  621,  623,  631,  635,  639,\n",
       "        643,  686,  738,  757,  777,  792,  798,  802,  807,  810,  820,\n",
       "        822,  825,  831,  834,  837,  839,  842,  845,  849,  851,  855,\n",
       "        858,  863,  872,  876,  878,  885,  890,  902,  908,  911,  915,\n",
       "        917,  921,  923,  926,  928,  930,  936,  952,  954,  962,  980,\n",
       "        989,  992, 1012, 1015, 1022, 1025, 1048, 1057, 1068, 1124, 1127,\n",
       "       1129, 1322, 1354, 1404, 1468, 1478, 1486, 1490, 1502, 1511, 1562,\n",
       "       1569, 1573, 1711, 2227, 2347, 2368, 2424, 2441, 2839, 2880, 2894,\n",
       "       2923, 3044, 3436, 3468, 3627, 3854, 3874, 3881, 4556, 4733, 4881,\n",
       "       4892, 4945, 5931, 6019, 6513, 6598, 6606, 6619, 6629, 6644, 6647,\n",
       "       6651, 6696, 6699, 6703, 6813, 6816, 6993, 6995, 7001, 7003, 7104,\n",
       "       7143, 7147, 7154, 7158, 7170, 7173, 7177, 7180, 7188, 7197, 7220,\n",
       "       7239, 7242, 7248, 7250, 7694, 7700, 7708, 7756, 7780, 7850, 7858,\n",
       "       7943, 7949, 8014, 8056, 8132, 8147, 8206,    3,   28,   34,   53,\n",
       "         56,   60,   65,   69,   82,   91,   93,   96,  220,  228,  239,\n",
       "        243,  246,  248,  251,  264,  280,  285,  290,  293,  301,  304,\n",
       "        310,  314,  319,  324,  330,  343,  357,  362,  364,  367,  372,\n",
       "        374,  378,  381,  385,  388,  390,  400,  410,  412,  414,  417,\n",
       "        420,  423,  425,  429,  437,  441,  445,  456,  462,  498,  546,\n",
       "        578,  614,  622,  630,  633,  638,  642,  685,  737,  756,  776,\n",
       "        791,  796,  801,  806,  808,  818,  821,  824,  828,  832,  835,\n",
       "        838,  840,  844,  848,  850,  853,  857,  862,  870,  875,  877,\n",
       "        884,  889,  901,  906,  910,  913,  916,  920,  922,  925,  927,\n",
       "        929,  935,  951,  953,  956,  963,  981,  990,  993, 1014, 1017,\n",
       "       1023, 1030, 1049, 1058, 1069, 1125, 1128, 1130, 1323, 1356, 1405,\n",
       "       1469, 1479, 1487, 1491, 1503, 1512, 1563, 1570, 1574, 1712, 2228,\n",
       "       2348, 2369, 2425, 2442, 2840, 2881, 2895, 2924, 3045, 3437, 3469,\n",
       "       3628, 3855, 3875, 3882, 4557, 4734, 4882, 4893, 4946, 5929, 6020,\n",
       "       6514, 6599, 6607, 6620, 6630, 6645, 6648, 6652, 6697, 6700, 6706,\n",
       "       6814, 6817, 6994, 6996, 7002, 7004, 7100, 7144, 7149, 7155, 7159,\n",
       "       7172, 7176, 7178, 7184, 7189, 7219, 7238, 7240, 7245, 7249, 7254,\n",
       "       7696, 7701, 7710, 7757, 7781, 7851, 7859, 7945, 7950, 8016, 8057,\n",
       "       8133, 8159, 8207])"
      ]
     },
     "execution_count": 34,
     "metadata": {},
     "output_type": "execute_result"
    }
   ],
   "source": []
  },
  {
   "cell_type": "code",
   "execution_count": null,
   "metadata": {
    "id": "xvh2jAWkm6Iq"
   },
   "outputs": [],
   "source": [
    "\n",
    "import torch\n",
    "import pandas as pd\n",
    "from torch_geometric.data import InMemoryDataset, Data\n",
    "from sklearn.model_selection import train_test_split\n",
    "import torch_geometric.transforms as T\n",
    "\n",
    "# custom dataset\n",
    "class NilmDataset(InMemoryDataset):\n",
    "    def __init__(self, transform=None):\n",
    "        super(NilmDataset, self).__init__('.', transform, None, None)\n",
    "\n",
    "        data = Data(edge_index=edge_index)\n",
    "        \n",
    "        data.num_nodes = G.number_of_nodes()\n",
    "        \n",
    "        # embedding \n",
    "        data.x = torch.from_numpy(embeddings).type(torch.float32)\n",
    "        \n",
    "        # labels\n",
    "        y = torch.from_numpy(labels).type(torch.long)\n",
    "        data.y = y.clone().detach()\n",
    "        \n",
    "        data.num_classes = 2\n",
    "\n",
    "        # splitting the data into train, validation and test\n",
    "        X_train, X_test, y_train, y_test = train_test_split(pd.Series(np.asarray([int(i) for i in G.nodes()]).astype(np.int64)), \n",
    "                                                            pd.Series(labels),\n",
    "                                                            test_size=0.30, \n",
    "                                                            random_state=42)\n",
    "        \n",
    "        n_nodes = G.number_of_nodes()\n",
    "        \n",
    "        # create train and test masks for data\n",
    "        train_mask = torch.zeros(n_nodes, dtype=torch.bool)\n",
    "        test_mask = torch.zeros(n_nodes, dtype=torch.bool)\n",
    "        train_mask[X_train.index] = True\n",
    "        test_mask[X_test.index] = True\n",
    "        data['train_mask'] = train_mask\n",
    "        data['test_mask'] = test_mask\n",
    "\n",
    "        self.data, self.slices = self.collate([data])\n",
    "\n",
    "    def _download(self):\n",
    "        return\n",
    "\n",
    "    def _process(self):\n",
    "        return\n",
    "\n",
    "    def __repr__(self):\n",
    "        return '{}()'.format(self.__class__.__name__)\n",
    "    \n",
    "dataset = NilmDataset()\n",
    "data = dataset[0]"
   ]
  },
  {
   "cell_type": "code",
   "execution_count": null,
   "metadata": {
    "id": "6y3cmoqXnFQz"
   },
   "outputs": [],
   "source": [
    "import torch.nn as nn\n",
    "import torch.nn.functional as F\n",
    "from torch_geometric.nn import GCNConv\n",
    "\n",
    "# GCN model with 2 layers \n",
    "class Net(torch.nn.Module):\n",
    "    def __init__(self):\n",
    "        super(Net, self).__init__()\n",
    "        self.conv1 = GCNConv(data.num_features, 16)\n",
    "        self.conv2 = GCNConv(16, int(data.num_classes))\n",
    "\n",
    "    def forward(self):\n",
    "        x, edge_index = data.x, data.edge_index\n",
    "        x = F.relu(self.conv1(x, edge_index))\n",
    "        x = F.dropout(x, training=self.training)\n",
    "        x = self.conv2(x, edge_index)\n",
    "        return F.log_softmax(x, dim=1)\n",
    "\n",
    "device = torch.device('cuda' if torch.cuda.is_available() else 'cpu')\n",
    "\n",
    "data =  data.to(device)\n",
    "\n",
    "model = Net().to(device) "
   ]
  },
  {
   "cell_type": "code",
   "execution_count": null,
   "metadata": {
    "colab": {
     "base_uri": "https://localhost:8080/"
    },
    "id": "R6FFmlZQowO_",
    "outputId": "192a0f2e-a961-44db-e6e7-605a59be9be5"
   },
   "outputs": [
    {
     "name": "stdout",
     "output_type": "stream",
     "text": [
      "######################################################################\n",
      "Train Accuracy: 0.5261324041811847\n",
      "Test Accuracy: 0.43902439024390244\n",
      "######################################################################\n"
     ]
    }
   ],
   "source": [
    "torch.manual_seed(42)\n",
    "\n",
    "optimizer_name = \"Adam\"\n",
    "lr = 1e-1\n",
    "optimizer = getattr(torch.optim, optimizer_name)(model.parameters(), lr=lr)\n",
    "epochs = 200\n",
    "\n",
    "def train():\n",
    "  model.train()\n",
    "  optimizer.zero_grad()\n",
    "  F.nll_loss(model()[data.train_mask], data.y[data.train_mask]).backward()\n",
    "  optimizer.step()\n",
    "\n",
    "@torch.no_grad()\n",
    "def test():\n",
    "  model.eval()\n",
    "  logits = model()\n",
    "  mask1 = data['train_mask']\n",
    "  pred1 = logits[mask1].max(1)[1]\n",
    "  acc1 = pred1.eq(data.y[mask1]).sum().item() / mask1.sum().item()\n",
    "  mask = data['test_mask']\n",
    "  pred = logits[mask].max(1)[1]\n",
    "  acc = pred.eq(data.y[mask]).sum().item() / mask.sum().item()\n",
    "  return acc1,acc\n",
    "\n",
    "for epoch in range(1, epochs):\n",
    "  train()\n",
    "\n",
    "train_acc,test_acc = test()\n",
    "\n",
    "print('#' * 70)\n",
    "print('Train Accuracy: %s' %train_acc )\n",
    "print('Test Accuracy: %s' % test_acc)\n",
    "print('#' * 70)"
   ]
  },
  {
   "cell_type": "code",
   "execution_count": null,
   "metadata": {
    "id": "EnHZqK6ZpBk4"
   },
   "outputs": [],
   "source": []
  }
 ],
 "metadata": {
  "accelerator": "GPU",
  "colab": {
   "authorship_tag": "ABX9TyM7f/rHLRRbh77IMbtRFIWK",
   "include_colab_link": true,
   "name": "test.ipynb",
   "provenance": []
  },
  "kernelspec": {
   "display_name": "Python 3 (ipykernel)",
   "language": "python",
   "name": "python3"
  },
  "language_info": {
   "codemirror_mode": {
    "name": "ipython",
    "version": 3
   },
   "file_extension": ".py",
   "mimetype": "text/x-python",
   "name": "python",
   "nbconvert_exporter": "python",
   "pygments_lexer": "ipython3",
   "version": "3.8.10"
  },
  "widgets": {
   "application/vnd.jupyter.widget-state+json": {
    "13989af33ba242c69e02bb784294b016": {
     "model_module": "@jupyter-widgets/controls",
     "model_module_version": "1.5.0",
     "model_name": "DescriptionStyleModel",
     "state": {
      "_model_module": "@jupyter-widgets/controls",
      "_model_module_version": "1.5.0",
      "_model_name": "DescriptionStyleModel",
      "_view_count": null,
      "_view_module": "@jupyter-widgets/base",
      "_view_module_version": "1.2.0",
      "_view_name": "StyleView",
      "description_width": ""
     }
    },
    "2ef22a9e64f54bc494756e26ba910f5c": {
     "model_module": "@jupyter-widgets/base",
     "model_module_version": "1.2.0",
     "model_name": "LayoutModel",
     "state": {
      "_model_module": "@jupyter-widgets/base",
      "_model_module_version": "1.2.0",
      "_model_name": "LayoutModel",
      "_view_count": null,
      "_view_module": "@jupyter-widgets/base",
      "_view_module_version": "1.2.0",
      "_view_name": "LayoutView",
      "align_content": null,
      "align_items": null,
      "align_self": null,
      "border": null,
      "bottom": null,
      "display": null,
      "flex": null,
      "flex_flow": null,
      "grid_area": null,
      "grid_auto_columns": null,
      "grid_auto_flow": null,
      "grid_auto_rows": null,
      "grid_column": null,
      "grid_gap": null,
      "grid_row": null,
      "grid_template_areas": null,
      "grid_template_columns": null,
      "grid_template_rows": null,
      "height": null,
      "justify_content": null,
      "justify_items": null,
      "left": null,
      "margin": null,
      "max_height": null,
      "max_width": null,
      "min_height": null,
      "min_width": null,
      "object_fit": null,
      "object_position": null,
      "order": null,
      "overflow": null,
      "overflow_x": null,
      "overflow_y": null,
      "padding": null,
      "right": null,
      "top": null,
      "visibility": null,
      "width": null
     }
    },
    "3dd39bfda1314235897132739aee7df8": {
     "model_module": "@jupyter-widgets/base",
     "model_module_version": "1.2.0",
     "model_name": "LayoutModel",
     "state": {
      "_model_module": "@jupyter-widgets/base",
      "_model_module_version": "1.2.0",
      "_model_name": "LayoutModel",
      "_view_count": null,
      "_view_module": "@jupyter-widgets/base",
      "_view_module_version": "1.2.0",
      "_view_name": "LayoutView",
      "align_content": null,
      "align_items": null,
      "align_self": null,
      "border": null,
      "bottom": null,
      "display": null,
      "flex": null,
      "flex_flow": null,
      "grid_area": null,
      "grid_auto_columns": null,
      "grid_auto_flow": null,
      "grid_auto_rows": null,
      "grid_column": null,
      "grid_gap": null,
      "grid_row": null,
      "grid_template_areas": null,
      "grid_template_columns": null,
      "grid_template_rows": null,
      "height": null,
      "justify_content": null,
      "justify_items": null,
      "left": null,
      "margin": null,
      "max_height": null,
      "max_width": null,
      "min_height": null,
      "min_width": null,
      "object_fit": null,
      "object_position": null,
      "order": null,
      "overflow": null,
      "overflow_x": null,
      "overflow_y": null,
      "padding": null,
      "right": null,
      "top": null,
      "visibility": null,
      "width": null
     }
    },
    "4dc4099e59344f33acfa5cb977e0f8d4": {
     "model_module": "@jupyter-widgets/controls",
     "model_module_version": "1.5.0",
     "model_name": "HTMLModel",
     "state": {
      "_dom_classes": [],
      "_model_module": "@jupyter-widgets/controls",
      "_model_module_version": "1.5.0",
      "_model_name": "HTMLModel",
      "_view_count": null,
      "_view_module": "@jupyter-widgets/controls",
      "_view_module_version": "1.5.0",
      "_view_name": "HTMLView",
      "description": "",
      "description_tooltip": null,
      "layout": "IPY_MODEL_2ef22a9e64f54bc494756e26ba910f5c",
      "placeholder": "​",
      "style": "IPY_MODEL_b5cf2f6a4f5b4afba2b76c5d4569c168",
      "value": "Computing transition probabilities: 100%"
     }
    },
    "6adc847a0f014b76beaea8300c24440f": {
     "model_module": "@jupyter-widgets/controls",
     "model_module_version": "1.5.0",
     "model_name": "HTMLModel",
     "state": {
      "_dom_classes": [],
      "_model_module": "@jupyter-widgets/controls",
      "_model_module_version": "1.5.0",
      "_model_name": "HTMLModel",
      "_view_count": null,
      "_view_module": "@jupyter-widgets/controls",
      "_view_module_version": "1.5.0",
      "_view_name": "HTMLView",
      "description": "",
      "description_tooltip": null,
      "layout": "IPY_MODEL_8935ec567d544755ae0a96bd63d70310",
      "placeholder": "​",
      "style": "IPY_MODEL_13989af33ba242c69e02bb784294b016",
      "value": " 410/410 [01:12&lt;00:00,  5.65it/s]"
     }
    },
    "8935ec567d544755ae0a96bd63d70310": {
     "model_module": "@jupyter-widgets/base",
     "model_module_version": "1.2.0",
     "model_name": "LayoutModel",
     "state": {
      "_model_module": "@jupyter-widgets/base",
      "_model_module_version": "1.2.0",
      "_model_name": "LayoutModel",
      "_view_count": null,
      "_view_module": "@jupyter-widgets/base",
      "_view_module_version": "1.2.0",
      "_view_name": "LayoutView",
      "align_content": null,
      "align_items": null,
      "align_self": null,
      "border": null,
      "bottom": null,
      "display": null,
      "flex": null,
      "flex_flow": null,
      "grid_area": null,
      "grid_auto_columns": null,
      "grid_auto_flow": null,
      "grid_auto_rows": null,
      "grid_column": null,
      "grid_gap": null,
      "grid_row": null,
      "grid_template_areas": null,
      "grid_template_columns": null,
      "grid_template_rows": null,
      "height": null,
      "justify_content": null,
      "justify_items": null,
      "left": null,
      "margin": null,
      "max_height": null,
      "max_width": null,
      "min_height": null,
      "min_width": null,
      "object_fit": null,
      "object_position": null,
      "order": null,
      "overflow": null,
      "overflow_x": null,
      "overflow_y": null,
      "padding": null,
      "right": null,
      "top": null,
      "visibility": null,
      "width": null
     }
    },
    "b02d9b52aedd40f08b853279e0a83e19": {
     "model_module": "@jupyter-widgets/base",
     "model_module_version": "1.2.0",
     "model_name": "LayoutModel",
     "state": {
      "_model_module": "@jupyter-widgets/base",
      "_model_module_version": "1.2.0",
      "_model_name": "LayoutModel",
      "_view_count": null,
      "_view_module": "@jupyter-widgets/base",
      "_view_module_version": "1.2.0",
      "_view_name": "LayoutView",
      "align_content": null,
      "align_items": null,
      "align_self": null,
      "border": null,
      "bottom": null,
      "display": null,
      "flex": null,
      "flex_flow": null,
      "grid_area": null,
      "grid_auto_columns": null,
      "grid_auto_flow": null,
      "grid_auto_rows": null,
      "grid_column": null,
      "grid_gap": null,
      "grid_row": null,
      "grid_template_areas": null,
      "grid_template_columns": null,
      "grid_template_rows": null,
      "height": null,
      "justify_content": null,
      "justify_items": null,
      "left": null,
      "margin": null,
      "max_height": null,
      "max_width": null,
      "min_height": null,
      "min_width": null,
      "object_fit": null,
      "object_position": null,
      "order": null,
      "overflow": null,
      "overflow_x": null,
      "overflow_y": null,
      "padding": null,
      "right": null,
      "top": null,
      "visibility": null,
      "width": null
     }
    },
    "b4253fb16c4444069ff00b2550f30ceb": {
     "model_module": "@jupyter-widgets/controls",
     "model_module_version": "1.5.0",
     "model_name": "FloatProgressModel",
     "state": {
      "_dom_classes": [],
      "_model_module": "@jupyter-widgets/controls",
      "_model_module_version": "1.5.0",
      "_model_name": "FloatProgressModel",
      "_view_count": null,
      "_view_module": "@jupyter-widgets/controls",
      "_view_module_version": "1.5.0",
      "_view_name": "ProgressView",
      "bar_style": "success",
      "description": "",
      "description_tooltip": null,
      "layout": "IPY_MODEL_b02d9b52aedd40f08b853279e0a83e19",
      "max": 410,
      "min": 0,
      "orientation": "horizontal",
      "style": "IPY_MODEL_c2d78d4dbc0445269db9aff1d28a29fc",
      "value": 410
     }
    },
    "b5cf2f6a4f5b4afba2b76c5d4569c168": {
     "model_module": "@jupyter-widgets/controls",
     "model_module_version": "1.5.0",
     "model_name": "DescriptionStyleModel",
     "state": {
      "_model_module": "@jupyter-widgets/controls",
      "_model_module_version": "1.5.0",
      "_model_name": "DescriptionStyleModel",
      "_view_count": null,
      "_view_module": "@jupyter-widgets/base",
      "_view_module_version": "1.2.0",
      "_view_name": "StyleView",
      "description_width": ""
     }
    },
    "c2d78d4dbc0445269db9aff1d28a29fc": {
     "model_module": "@jupyter-widgets/controls",
     "model_module_version": "1.5.0",
     "model_name": "ProgressStyleModel",
     "state": {
      "_model_module": "@jupyter-widgets/controls",
      "_model_module_version": "1.5.0",
      "_model_name": "ProgressStyleModel",
      "_view_count": null,
      "_view_module": "@jupyter-widgets/base",
      "_view_module_version": "1.2.0",
      "_view_name": "StyleView",
      "bar_color": null,
      "description_width": ""
     }
    },
    "f595b0c81b3e479d9a920275de9aa7b4": {
     "model_module": "@jupyter-widgets/controls",
     "model_module_version": "1.5.0",
     "model_name": "HBoxModel",
     "state": {
      "_dom_classes": [],
      "_model_module": "@jupyter-widgets/controls",
      "_model_module_version": "1.5.0",
      "_model_name": "HBoxModel",
      "_view_count": null,
      "_view_module": "@jupyter-widgets/controls",
      "_view_module_version": "1.5.0",
      "_view_name": "HBoxView",
      "box_style": "",
      "children": [
       "IPY_MODEL_4dc4099e59344f33acfa5cb977e0f8d4",
       "IPY_MODEL_b4253fb16c4444069ff00b2550f30ceb",
       "IPY_MODEL_6adc847a0f014b76beaea8300c24440f"
      ],
      "layout": "IPY_MODEL_3dd39bfda1314235897132739aee7df8"
     }
    }
   }
  }
 },
 "nbformat": 4,
 "nbformat_minor": 4
}
